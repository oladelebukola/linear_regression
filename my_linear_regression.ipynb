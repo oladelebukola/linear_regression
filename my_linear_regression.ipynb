{
 "cells": [
  {
   "cell_type": "code",
   "execution_count": 1,
   "id": "d230ce61",
   "metadata": {},
   "outputs": [],
   "source": [
    "import numpy as np\n",
    "import matplotlib.pyplot as plt\n",
    "from mpl_toolkits.mplot3d import Axes3D"
   ]
  },
  {
   "cell_type": "code",
   "execution_count": 2,
   "id": "ce91edaa",
   "metadata": {},
   "outputs": [],
   "source": [
    "def h(x, theta):\n",
    "    return np.matmul(x,theta.reshape(-1, 1))\n"
   ]
  },
  {
   "cell_type": "code",
   "execution_count": 3,
   "id": "566dd2f5",
   "metadata": {},
   "outputs": [],
   "source": [
    "def mean_squared_error(y_predicted, y_label):\n",
    "    m = len(y_label)  # Number of instances\n",
    "    squared_errors = np.square(y_predicted - y_label)\n",
    "    mse = np.mean(squared_errors)\n",
    "    return mse"
   ]
  },
  {
   "cell_type": "code",
   "execution_count": 4,
   "id": "44d43b32",
   "metadata": {},
   "outputs": [],
   "source": [
    "class LeastSquaresRegression():\n",
    "    def __init__(self):\n",
    "        self.theta_ = None\n",
    "\n",
    "    def fit(self, X, y):\n",
    "        # Add a column of ones to the feature matrix for the bias term\n",
    "        X = np.insert(X, 0, 1, axis=1)\n",
    "\n",
    "        # Calculate theta using the normal equation\n",
    "        X_T = np.transpose(X)\n",
    "        X_T_X_inv = np.linalg.inv(np.dot(X_T, X))\n",
    "        self.theta_ = np.dot(np.dot(X_T_X_inv, X_T), y)\n",
    "\n",
    "    def predict(self, X):\n",
    "        # Add a column of ones to the feature matrix for the bias term\n",
    "        X = np.insert(X, 0, 1, axis=1)\n",
    "\n",
    "        # Make predictions using the learned theta\n",
    "        return np.dot(X, self.theta_)\n"
   ]
  },
  {
   "cell_type": "code",
   "execution_count": 5,
   "id": "8e7ee25a",
   "metadata": {},
   "outputs": [
    {
     "data": {
      "image/png": "[encoded data removed]",
      "text/plain": [
       "<Figure size 432x288 with 1 Axes>"
      ]
     },
     "metadata": {
      "needs_background": "light"
     },
     "output_type": "display_data"
    }
   ],
   "source": [
    "# Generate the data\n",
    "X = 4 * np.random.rand(100, 1)\n",
    "y = 10 + 2 * X + np.random.randn(100, 1)\n",
    "\n",
    "# Plot the data points\n",
    "plt.scatter(X, y)\n",
    "plt.xlabel('X')\n",
    "plt.ylabel('y')\n",
    "plt.title('Data Distribution')\n",
    "plt.show()"
   ]
  },
  {
   "cell_type": "code",
   "execution_count": 6,
   "id": "2b2a6ed9",
   "metadata": {},
   "outputs": [
    {
     "name": "stdout",
     "output_type": "stream",
     "text": [
      "[[0.91340515]\n",
      " [1.82940457]\n",
      " [0.55930973]\n",
      " [2.63698448]\n",
      " [3.56208649]]\n",
      " ---- \n",
      "[[1.         0.91340515]\n",
      " [1.         1.82940457]\n",
      " [1.         0.55930973]\n",
      " [1.         2.63698448]\n",
      " [1.         3.56208649]]\n"
     ]
    }
   ],
   "source": [
    "def bias_column(X):\n",
    "    # Add a column of ones at the beginning of the feature matrix\n",
    "    ones_column = np.ones((X.shape[0], 1))\n",
    "    X_new = np.hstack((ones_column, X))\n",
    "    return X_new\n",
    "\n",
    "X = np.array([[0.91340515], [1.82940457], [0.55930973], [2.63698448], [3.56208649]])\n",
    "\n",
    "X_new = bias_column(X)\n",
    "\n",
    "print(X[:5])\n",
    "print(\" ---- \")\n",
    "print(X_new[:5])"
   ]
  },
  {
   "cell_type": "code",
   "execution_count": 7,
   "id": "7eb34134",
   "metadata": {},
   "outputs": [],
   "source": [
    "class LeastSquaresRegression():\n",
    "    def __init__(self):\n",
    "        self.theta_ = None\n",
    "\n",
    "    def fit(self, X, y):\n",
    "        # Calculate theta using the normal equation\n",
    "        X_T = np.transpose(X)\n",
    "        X_T_X_inv = np.linalg.inv(np.dot(X_T, X))\n",
    "        self.theta_ = np.dot(np.dot(X_T_X_inv, X_T), y)\n",
    "\n",
    "    def predict(self, X):\n",
    "        # Make predictions using the learned theta\n",
    "        return np.dot(X, self.theta_)"
   ]
  },
  {
   "cell_type": "code",
   "execution_count": 8,
   "id": "d236dc2d",
   "metadata": {},
   "outputs": [
    {
     "name": "stdout",
     "output_type": "stream",
     "text": [
      "X_new shape: (10, 1)\n",
      "y shape: (10, 1)\n",
      "Learned Weights:\n",
      "[[6.4454785]]\n",
      "Expected Weights:\n",
      "[[10]\n",
      " [ 2]]\n"
     ]
    }
   ],
   "source": [
    "\n",
    "\n",
    "X_new = X_new.reshape(-1, 1)  # Reshape X_new to have shape (n_samples, 1)\n",
    "y = y[:X_new.shape[0]].reshape(-1, 1)  # Reshape y to match the number of samples in X_new\n",
    "print(\"X_new shape:\", X_new.shape)\n",
    "print(\"y shape:\", y.shape)\n",
    "\n",
    "model = LeastSquaresRegression()\n",
    "model.fit(X_new, y)\n",
    "\n",
    "print(\"Learned Weights:\")\n",
    "print(model.theta_)\n",
    "\n",
    "expected_weights = np.array([[10], [2]])  # Expected weights from the generating equation\n",
    "print(\"Expected Weights:\")\n",
    "print(expected_weights)\n"
   ]
  },
  {
   "cell_type": "code",
   "execution_count": 9,
   "id": "b354f4f0",
   "metadata": {},
   "outputs": [],
   "source": [
    "def test_h_function_II(self):\n",
    "    x = np.array([[1, 1], [1, 2], [1, 3]])\n",
    "    theta = np.array([[1], [2]])  # Reshape theta to have shape (2, 1)\n",
    "    y_predicted = eg.h(x, theta)\n",
    "\n",
    "    expected_output = np.array([[3], [5], [7]])\n",
    "    self.assertTrue((y_predicted == expected_output).all())\n"
   ]
  },
  {
   "cell_type": "raw",
   "id": "9fbb46cc",
   "metadata": {},
   "source": [
    "By comparing the learned weights (model.theta_) with the expected weights (expected_weights), you can see if they are consistent or close to the generating equation. If the learned weights are close to the expected values of 10 and 2, then it indicates that the model has learned the underlying linear relationship in the data."
   ]
  },
  {
   "cell_type": "raw",
   "id": "84f45c3b",
   "metadata": {},
   "source": [
    "Comparison:\n",
    "The computational complexity of the least squares regression method depends on the number of features (n) and the number of instances or samples (m).In terms of complexity, the training complexity of least squares regression dominates the prediction complexity. The training complexity is higher due to the need to invert the feature matrix, while the prediction complexity is relatively lower and scales linearly with the number of features."
   ]
  },
  {
   "cell_type": "code",
   "execution_count": 10,
   "id": "d9f61502",
   "metadata": {},
   "outputs": [],
   "source": [
    "def f(x):\n",
    "    # Define the function f(x)\n",
    "    target = np.array([[2], [6]])  # Target vector (2 6)T\n",
    "    diff = x - target\n",
    "    result = 3 + np.dot(diff.T, diff)\n",
    "    return result\n"
   ]
  },
  {
   "cell_type": "code",
   "execution_count": 11,
   "id": "3e29556d",
   "metadata": {},
   "outputs": [],
   "source": [
    "def f(x):\n",
    "    target = np.array([[2], [6]])  # Target vector (2 6)T\n",
    "    diff = x - target\n",
    "    result = 3 + np.dot(diff.T, diff)\n",
    "    return result\n",
    "\n",
    "def fprime(x):\n",
    "    target = np.array([[2], [6]])  # Target vector (2 6)T\n",
    "    diff = x - target\n",
    "    gradient = 2 * diff\n",
    "    return gradient\n"
   ]
  },
  {
   "cell_type": "code",
   "execution_count": 12,
   "id": "1c069309",
   "metadata": {},
   "outputs": [
    {
     "name": "stdout",
     "output_type": "stream",
     "text": [
      "Best theta found is [[1.93133971]\n",
      " [5.35962424]]\n",
      "Value of f at this theta: f(theta) = [[3.41479535]]\n",
      "Value of f prime at this theta: f'(theta) = [[-0.13732058]\n",
      " [-1.28075152]]\n"
     ]
    }
   ],
   "source": [
    "# Define the function f(x) and its gradient fprime(x)\n",
    "def f(x):\n",
    "    target = np.array([[2], [6]])  # Target vector (2 6)T\n",
    "    diff = x - target\n",
    "    result = 3 + np.dot(diff.T, diff)\n",
    "    return result\n",
    "\n",
    "def fprime(x):\n",
    "    target = np.array([[2], [6]])  # Target vector (2 6)T\n",
    "    diff = x - target\n",
    "    gradient = 2 * diff\n",
    "    return gradient\n",
    "\n",
    "\n",
    "# Define the GradientDescentOptimizer class\n",
    "class GradientDescentOptimizer():\n",
    "    def __init__(self, f, fprime, start, learning_rate=0.1):\n",
    "        self.f_ = f                       # The function\n",
    "        self.fprime_ = fprime              # The gradient of f\n",
    "        self.current_ = start.reshape(-1,1)              # The current point being evaluated\n",
    "        self.learning_rate_ = learning_rate\n",
    "        self.history_ = [start]            # Save history as attributes\n",
    "        self.gradient_history_ = []        # Save gradient history\n",
    "\n",
    "    def step(self):\n",
    "        # Take a gradient descent step\n",
    "        gradient = self.fprime_(self.current_)\n",
    "        self.current_ = self.current_ - self.learning_rate_ * gradient\n",
    "        self.history_.append(self.current_)\n",
    "        self.gradient_history_.append(gradient)\n",
    "\n",
    "    def optimize(self, iterations=100):\n",
    "        # Use gradient descent to get closer to the minimum\n",
    "        for _ in range(iterations):\n",
    "            self.step()\n",
    "\n",
    "    def getCurrentValue(self):\n",
    "        # Getter for current_\n",
    "        return self.current_\n",
    "\n",
    "    def print_result(self):\n",
    "        print(\"Best theta found is \" + str(self.current_))\n",
    "        print(\"Value of f at this theta: f(theta) = \" + str(self.f_(self.current_)))\n",
    "        print(\"Value of f prime at this theta: f'(theta) = \" + str(self.fprime_(self.current_)))\n",
    "\n",
    "\n",
    "# Create an instance of the GradientDescentOptimizer class and optimize\n",
    "grad = GradientDescentOptimizer(f, fprime, np.random.normal(size=(2,)), 0.1)\n",
    "grad.optimize(10)\n",
    "grad.print_result()"
   ]
  },
  {
   "cell_type": "code",
   "execution_count": null,
   "id": "31ddd3ae",
   "metadata": {},
   "outputs": [],
   "source": [
    "# Define the function f(x)\n",
    "def f(x):\n",
    "    target = np.array([[2], [6]])  # Target vector (2 6)T\n",
    "    diff = x - target\n",
    "    result = 3 + np.dot(diff.T, diff)\n",
    "    return result\n",
    "\n",
    "# Generate data for plotting\n",
    "x1 = np.linspace(-10, 10, 100)\n",
    "x2 = np.linspace(-10, 10, 100)\n",
    "X1, X2 = np.meshgrid(x1, x2)\n",
    "Z = f(np.vstack((X1.flatten(), X2.flatten()))).reshape(X1.shape)\n",
    "# Reshape theta to (2, 1) to match the number of columns in x\n",
    "theta = theta.reshape(-1, 1)\n",
    "\n",
    "# Create a 3D plot\n",
    "fig = plt.figure()\n",
    "ax = fig.add_subplot(111, projection='3d')\n",
    "ax.plot_surface(X1, X2, Z, cmap='viridis')\n",
    "\n",
    "# Show the plot\n",
    "plt.show()"
   ]
  },
  {
   "cell_type": "code",
   "execution_count": null,
   "id": "12098854",
   "metadata": {},
   "outputs": [],
   "source": [
    "# Set labels and title\n",
    "ax.set_xlabel('x1')\n",
    "ax.set_ylabel('x2')\n",
    "ax.set_zlabel('f(x)')\n",
    "ax.set_title('Function f(x)')\n",
    "\n",
    "# Show the plot\n",
    "plt.show()\n"
   ]
  },
  {
   "cell_type": "code",
   "execution_count": null,
   "id": "be016cd4",
   "metadata": {},
   "outputs": [],
   "source": [
    "# Define the function f(x) and its gradient fprime(x)\n",
    "def f(x):\n",
    "    target = np.array([[2], [6]])  # Target vector (2 6)T\n",
    "    diff = x - target\n",
    "    result = 3 + np.dot(diff.T, diff)\n",
    "    return result\n",
    "\n",
    "def fprime(x):\n",
    "    target = np.array([[2], [6]])  # Target vector (2 6)T\n",
    "    diff = x - target\n",
    "    gradient = 2 * diff\n",
    "    return gradient\n",
    "\n",
    "# Define the GradientDescentOptimizer class\n",
    "class GradientDescentOptimizer():\n",
    "    def __init__(self, f, fprime, start, learning_rate=0.1):\n",
    "        self.f_ = f                       # The function\n",
    "        self.fprime_ = fprime              # The gradient of f\n",
    "        self.current_ = start.reshape(-1,1)              # The current point being evaluated\n",
    "        self.learning_rate_ = learning_rate\n",
    "        self.history_ = [start]            # Save history as attributes\n",
    "        self.gradient_history_ = []        # Save gradient history\n",
    "\n",
    "    def step(self):\n",
    "        # Take a gradient descent step\n",
    "        gradient = self.fprime_(self.current_)\n",
    "        self.current_ = self.current_ - self.learning_rate_ * gradient\n",
    "        self.history_.append(self.current_)\n",
    "        self.gradient_history_.append(gradient)\n",
    "\n",
    "    def optimize(self, iterations=100):\n",
    "        # Use gradient descent to get closer to the minimum\n",
    "        for _ in range(iterations):\n",
    "            self.step()\n",
    "\n",
    "    def getCurrentValue(self):\n",
    "        # Getter for current_\n",
    "        return self.current_\n",
    "\n",
    "    def print_result(self):\n",
    "        print(\"Best theta found is \" + str(self.current_))\n",
    "        print(\"Value of f at this theta: f(theta) = \" + str(self.f_(self.current_)))\n",
    "        print(\"Value of f prime at this theta: f'(theta) = \" + str(self.fprime_(self.current_)))\n",
    "\n",
    "\n",
    "# Create an instance of the GradientDescentOptimizer class and optimize\n",
    "grad = GradientDescentOptimizer(f, fprime, np.random.normal(size=(2,)), 0.1)\n",
    "grad.optimize(10)\n",
    "grad.print_result()\n",
    "\n",
    "# Plot the progression of the gradient\n",
    "gradient_history = grad.gradient_history_\n",
    "num_iterations = len(gradient_history)\n",
    "iteration_indices = range(num_iterations)\n",
    "x = [grad.history_[i][0] for i in iteration_indices]\n",
    "y = [grad.history_[i][1] for i in iteration_indices]\n",
    "z = [gradient_history[i][1] for i in iteration_indices]\n",
    "\n",
    "fig = plt.figure()\n",
    "ax = fig.add_subplot(111, projection='3d')\n",
    "ax.plot(x, y, z, marker='o', linestyle='-', color='b')\n",
    "\n",
    "ax.set_xlabel('x1')\n",
    "ax.set_ylabel('x2')\n",
    "ax.set_zlabel('Gradient')\n",
    "ax.set_title('Progression of Gradient')\n",
    "\n",
    "# Show the plot\n",
    "plt.show()\n"
   ]
  },
  {
   "cell_type": "raw",
   "id": "f5018d7d",
   "metadata": {},
   "source": [
    "The learning rate determines the step size taken in each iteration of the gradient descent algorithm. It controls how quickly or slowly the algorithm converges towards the minimum of the function. a learning rate that is too small may result in slow convergence, while a learning rate that is too large may cause instability.\n",
    "The number of iterations determines how many steps the optimization algorithm takes to converge or reach a stopping criterion. The optimization process may terminate prematurely, and the solution may not be optimal."
   ]
  },
  {
   "cell_type": "raw",
   "id": "87a0547a",
   "metadata": {},
   "source": [
    "Turning Hyperparameters and choosing a good learning rate includes;\n",
    "1) Grid Search or Random Search\n",
    "2) Learning Rate Schedule\n",
    "3) Learning Rate Visualization\n",
    "4) Learning Rate Decay"
   ]
  },
  {
   "cell_type": "raw",
   "id": "8ee51eac",
   "metadata": {},
   "source": [
    "The number of iterations is another important hyperparameter that can affect the optimization process. It determines how many steps the optimization algorithm takes to converge or reach a stopping criterion. The convergence rate refers to the speed at which the algorithm converges to the optimal solution.\n",
    "The convergence rate can be influenced by several factors including Complexity of the problem, Learning rate, and Gradient landscape"
   ]
  }
 ],
 "metadata": {
  "kernelspec": {
   "display_name": "Python 3",
   "language": "python",
   "name": "python3"
  },
  "language_info": {
   "codemirror_mode": {
    "name": "ipython",
    "version": 3
   },
   "file_extension": ".py",
   "mimetype": "text/x-python",
   "name": "python",
   "nbconvert_exporter": "python",
   "pygments_lexer": "ipython3",
   "version": "3.6.7"
  }
 },
 "nbformat": 4,
 "nbformat_minor": 5
}
